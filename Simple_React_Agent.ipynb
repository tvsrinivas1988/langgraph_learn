{
 "cells": [
  {
   "cell_type": "code",
   "execution_count": null,
   "id": "0520633a",
   "metadata": {},
   "outputs": [],
   "source": [
    "import os\n",
    "from dotenv import load_dotenv"
   ]
  },
  {
   "cell_type": "code",
   "execution_count": null,
   "id": "4ea58e7a",
   "metadata": {},
   "outputs": [],
   "source": [
    "load_dotenv()"
   ]
  },
  {
   "cell_type": "code",
   "execution_count": null,
   "id": "370b2a7b",
   "metadata": {},
   "outputs": [],
   "source": [
    "from langchain_community.utilities import GoogleSerperAPIWrapper\n",
    "search = GoogleSerperAPIWrapper()"
   ]
  },
  {
   "cell_type": "code",
   "execution_count": null,
   "id": "ed93d693",
   "metadata": {},
   "outputs": [],
   "source": [
    "\n",
    "from langchain.agents import tool"
   ]
  },
  {
   "cell_type": "code",
   "execution_count": null,
   "id": "4ce37c11",
   "metadata": {},
   "outputs": [],
   "source": [
    "import requests\n",
    "@tool\n",
    "def  open_fda_label_tool(drug_name:str, limit :int =1) -> str:\n",
    "    \"\"\"\n",
    "    Fetches safety label information for a given drug from OpenFDA.\n",
    "\n",
    "    Args:\n",
    "        drug_name (str): Brand or generic name of the drug.\n",
    "        limit (int): Number of records to retrieve (max 100).\n",
    "\n",
    "    Returns:\n",
    "        str: A formatted string with drug safety details.\n",
    "    \"\"\"\n",
    "    BASE_URL = \"https://api.fda.gov/drug/label.json\"\n",
    "\n",
    "    if limit >100:\n",
    "        limit=100\n",
    "    \n",
    "    params={\n",
    "         \"search\": f'openfda.brand_name:\"{drug_name}\"',\n",
    "        \"limit\": 1\n",
    "            }\n",
    "    \n",
    "    try:\n",
    "        response = requests.get(BASE_URL, params=params)\n",
    "        response.raise_for_status()\n",
    "        data = response.json()\n",
    "\n",
    "        if \"results\" not in data:\n",
    "            return f\"No FDA label data found for {drug_name}.\"\n",
    "\n",
    "        output = []\n",
    "        for result in data[\"results\"]:\n",
    "            brand = result.get(\"openfda\", {}).get(\"brand_name\", [\"N/A\"])[0]\n",
    "            manufacturer = result.get(\"openfda\", {}).get(\"manufacturer_name\", [\"N/A\"])[0]\n",
    "            warnings = \"\\n\".join(result.get(\"warnings\", [\"No warnings found\"]))\n",
    "            boxed_warning = \"\\n\".join(result.get(\"boxed_warning\", [\"No boxed warning found\"]))\n",
    "            adverse = \"\\n\".join(result.get(\"adverse_reactions\", [\"No adverse reactions listed\"]))\n",
    "\n",
    "            output.append(\n",
    "                f\"Brand: {brand}\\n\"\n",
    "                f\"Manufacturer: {manufacturer}\\n\\n\"\n",
    "                f\"⚠ Warnings:\\n{warnings}\\n\\n\"\n",
    "                f\"🚨 Boxed Warning:\\n{boxed_warning}\\n\\n\"\n",
    "                f\"💊 Adverse Reactions:\\n{adverse}\\n\"\n",
    "            )\n",
    "\n",
    "        return \"\\n\" + (\"-\"*50 + \"\\n\").join(output)\n",
    "\n",
    "    except requests.exceptions.RequestException as e:\n",
    "        return f\"Error querying OpenFDA API: {e}\"\n",
    "\n",
    "\n"
   ]
  },
  {
   "cell_type": "code",
   "execution_count": null,
   "id": "dd4b0528",
   "metadata": {},
   "outputs": [],
   "source": [
    "import requests\n",
    "\n",
    "BASE_URL = \"https://api.fda.gov/drug/enforcement.json\"\n",
    "@tool\n",
    "def openfda_recalls_tool(drug_name: str, limit: int = 5) -> str:\n",
    "    \"\"\"\n",
    "    Fetches recent FDA recall/enforcement reports for a given drug.\n",
    "\n",
    "    Args:\n",
    "        drug_name (str): Brand or generic drug name.\n",
    "        limit (int): Number of recall records to retrieve (max 100).\n",
    "\n",
    "    Returns:\n",
    "        str: A formatted string summarizing recall details.\n",
    "    \"\"\"\n",
    "    params = {\n",
    "        \"search\": f'product_description:\"{drug_name}\"',\n",
    "        \"limit\": limit\n",
    "    }\n",
    "\n",
    "    try:\n",
    "        response = requests.get(BASE_URL, params=params)\n",
    "        response.raise_for_status()\n",
    "        data = response.json()\n",
    "\n",
    "        if \"results\" not in data:\n",
    "            return f\"No FDA recall data found for {drug_name}.\"\n",
    "\n",
    "        output = []\n",
    "        for recall in data[\"results\"]:\n",
    "            recall_number = recall.get(\"recall_number\", \"N/A\")\n",
    "            status = recall.get(\"status\", \"N/A\")\n",
    "            classification = recall.get(\"classification\", \"N/A\")\n",
    "            reason = recall.get(\"reason_for_recall\", \"No reason provided.\")\n",
    "            date = recall.get(\"report_date\", \"N/A\")\n",
    "            recalling_firm = recall.get(\"recalling_firm\", \"N/A\")\n",
    "            product_desc = recall.get(\"product_description\", \"N/A\")\n",
    "\n",
    "            output.append(\n",
    "                f\"📅 Date: {date}\\n\"\n",
    "                f\"🏢 Firm: {recalling_firm}\\n\"\n",
    "                f\"💊 Product: {product_desc}\\n\"\n",
    "                f\"⚠ Classification: {classification}\\n\"\n",
    "                f\"📝 Reason: {reason}\\n\"\n",
    "                f\"📌 Status: {status}\\n\"\n",
    "                f\"🔢 Recall #: {recall_number}\\n\"\n",
    "            )\n",
    "\n",
    "        return \"\\n\" + (\"-\"*50 + \"\\n\").join(output)\n",
    "\n",
    "    except requests.exceptions.RequestException as e:\n",
    "        return f\"Error querying OpenFDA Recall API: {e}\"\n"
   ]
  },
  {
   "cell_type": "code",
   "execution_count": null,
   "id": "e19a6bb8",
   "metadata": {},
   "outputs": [],
   "source": [
    "from langchain.agents import AgentType,initialize_agent, Tool\n",
    "tools=[Tool(name=\"open_fda_label_tool\",description=\" Tool to get fda label info\",func=open_fda_label_tool),\n",
    "       Tool(name=\"openfda_recalls_tool\",description=\" Tool to get fda RECALL info\",func=openfda_recalls_tool)   ,\n",
    "       Tool(name=\"Intermediate Answer\",description=\"useful for when you need to ask with search\",func=search.run)\n",
    "    ]\n"
   ]
  },
  {
   "cell_type": "code",
   "execution_count": null,
   "id": "068d4c35",
   "metadata": {},
   "outputs": [],
   "source": [
    "from langchain_groq import ChatGroq\n",
    "llm = ChatGroq(model_name='gemma2-9b-it')"
   ]
  },
  {
   "cell_type": "code",
   "execution_count": null,
   "id": "b545d51d",
   "metadata": {},
   "outputs": [],
   "source": [
    "agent=initialize_agent(tools,llm,verbose=True,agent=AgentType.ZERO_SHOT_REACT_DESCRIPTION,handle_parsing_errors=True)"
   ]
  },
  {
   "cell_type": "code",
   "execution_count": null,
   "id": "07eca556",
   "metadata": {},
   "outputs": [],
   "source": [
    "result1 = agent.run(\"Tell me the label info for Tremfya and  recall info for its top competitor by market share.\")\n",
    "print(result1)"
   ]
  }
 ],
 "metadata": {
  "kernelspec": {
   "display_name": "Python 3",
   "language": "python",
   "name": "python3"
  },
  "language_info": {
   "codemirror_mode": {
    "name": "ipython",
    "version": 3
   },
   "file_extension": ".py",
   "mimetype": "text/x-python",
   "name": "python",
   "nbconvert_exporter": "python",
   "pygments_lexer": "ipython3",
   "version": "3.12.0"
  }
 },
 "nbformat": 4,
 "nbformat_minor": 5
}
