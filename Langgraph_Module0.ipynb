{
  "nbformat": 4,
  "nbformat_minor": 0,
  "metadata": {
    "colab": {
      "provenance": [],
      "authorship_tag": "ABX9TyOOiKyoImBi1EQEB7yaykNn"
    },
    "kernelspec": {
      "name": "python3",
      "display_name": "Python 3"
    },
    "language_info": {
      "name": "python"
    }
  },
  "cells": [
    {
      "cell_type": "code",
      "execution_count": 10,
      "metadata": {
        "id": "E5cBp5rLZWYo"
      },
      "outputs": [],
      "source": [
        "%%capture --no-stderr\n",
        "%pip install --quiet -U langchain_openai langchain_core langchain_community tavily-python langchain[groq]"
      ]
    },
    {
      "cell_type": "code",
      "source": [
        "import os"
      ],
      "metadata": {
        "id": "EnaRIk3Ra9XG"
      },
      "execution_count": 2,
      "outputs": []
    },
    {
      "cell_type": "code",
      "source": [
        "%pip install python-dotenv"
      ],
      "metadata": {
        "colab": {
          "base_uri": "https://localhost:8080/"
        },
        "id": "cn0_ifYxa9ow",
        "outputId": "5f654705-af68-4f35-9eb3-636f9e8e8d76"
      },
      "execution_count": null,
      "outputs": [
        {
          "output_type": "stream",
          "name": "stdout",
          "text": [
            "Requirement already satisfied: python-dotenv in /usr/local/lib/python3.12/dist-packages (1.1.1)\n"
          ]
        }
      ]
    },
    {
      "cell_type": "code",
      "source": [
        "from dotenv import load_dotenv\n"
      ],
      "metadata": {
        "id": "uME4RbvOa90Q"
      },
      "execution_count": 3,
      "outputs": []
    },
    {
      "cell_type": "code",
      "source": [
        "load_dotenv()"
      ],
      "metadata": {
        "colab": {
          "base_uri": "https://localhost:8080/"
        },
        "id": "q-bUgeFha92B",
        "outputId": "37dde5bd-8fa0-4f21-cc4e-e6adfaa77f86"
      },
      "execution_count": 4,
      "outputs": [
        {
          "output_type": "execute_result",
          "data": {
            "text/plain": [
              "False"
            ]
          },
          "metadata": {},
          "execution_count": 4
        }
      ]
    },
    {
      "cell_type": "code",
      "source": [
        "import getpass"
      ],
      "metadata": {
        "id": "dDLfloI1b-LA"
      },
      "execution_count": 5,
      "outputs": []
    },
    {
      "cell_type": "code",
      "source": [
        "def _set_env(var: str):\n",
        "    if not os.environ.get(var):\n",
        "        os.environ[var] = getpass.getpass(f\"{var}: \")\n",
        "\n"
      ],
      "metadata": {
        "id": "4jhQgeFEa96f"
      },
      "execution_count": 6,
      "outputs": []
    },
    {
      "cell_type": "code",
      "source": [
        "_set_env(\"GROQ_API_KEY\")"
      ],
      "metadata": {
        "colab": {
          "base_uri": "https://localhost:8080/"
        },
        "id": "tdeEOonaccbL",
        "outputId": "7d0fb9b1-83f4-4839-8a3a-d30ff12824cf"
      },
      "execution_count": 7,
      "outputs": [
        {
          "name": "stdout",
          "output_type": "stream",
          "text": [
            "GROQ_API_KEY: ··········\n"
          ]
        }
      ]
    },
    {
      "cell_type": "code",
      "source": [
        "from langchain.chat_models import init_chat_model"
      ],
      "metadata": {
        "id": "Aq6rkJPpcccy"
      },
      "execution_count": 8,
      "outputs": []
    },
    {
      "cell_type": "code",
      "source": [
        "model = init_chat_model(\"llama3-8b-8192\", model_provider=\"groq\")"
      ],
      "metadata": {
        "id": "Xy0VylrMcchE"
      },
      "execution_count": 11,
      "outputs": []
    },
    {
      "cell_type": "code",
      "source": [
        "model.invoke(\"Hello world!\")"
      ],
      "metadata": {
        "colab": {
          "base_uri": "https://localhost:8080/"
        },
        "id": "v_2RhBL3cci0",
        "outputId": "9be8d21b-0991-476d-c5c8-6336d052ead0"
      },
      "execution_count": 12,
      "outputs": [
        {
          "output_type": "execute_result",
          "data": {
            "text/plain": [
              "AIMessage(content=\"Hello there! It's great to see you! Welcome to our conversation. Is there something on your mind that you'd like to chat about, or are you just saying hello? Either way, I'm happy to chat with you!\", additional_kwargs={}, response_metadata={'token_usage': {'completion_tokens': 48, 'prompt_tokens': 13, 'total_tokens': 61, 'completion_time': 0.037184607, 'prompt_time': 0.002162237, 'queue_time': 0.19497358, 'total_time': 0.039346844}, 'model_name': 'llama3-8b-8192', 'system_fingerprint': 'fp_4b5fbf0ced', 'service_tier': 'on_demand', 'finish_reason': 'stop', 'logprobs': None}, id='run--ec59bda4-5a47-4f1f-b6ab-a561e32ee845-0', usage_metadata={'input_tokens': 13, 'output_tokens': 48, 'total_tokens': 61})"
            ]
          },
          "metadata": {},
          "execution_count": 12
        }
      ]
    },
    {
      "cell_type": "code",
      "source": [
        "from langchain_core.messages import HumanMessage\n",
        "msg = HumanMessage(content=\"Can you explain what is Darzalex used for?\", name = \"SessionID1\")\n",
        "messages = [msg]\n",
        "model.invoke(messages)"
      ],
      "metadata": {
        "id": "1qZdw1CAccnT",
        "colab": {
          "base_uri": "https://localhost:8080/"
        },
        "outputId": "157afc70-ba5b-43b0-9755-3d653c36367b"
      },
      "execution_count": 13,
      "outputs": [
        {
          "output_type": "execute_result",
          "data": {
            "text/plain": [
              "AIMessage(content=\"Darzalex (daratumumab) is a medication used to treat certain types of blood cancer. It is a monoclonal antibody, which means that it is designed to target and bind to specific proteins on the surface of cancer cells.\\n\\nDarzalex is used to treat:\\n\\n1. Multiple Myeloma (MM): a type of blood cancer that affects the plasma cells in the bone marrow. Darzalex is used in combination with other medications to treat MM that is:\\n\\t* Newly diagnosed and resistant to other treatments\\n\\t* Relapsed or refractory (did not respond to previous treatments)\\n\\t* Transplant-ineligible (patients who cannot undergo a stem cell transplant)\\n2. Light Chain (AL) Amyloidosis: a rare blood disorder caused by abnormal protein production in the bone marrow. Darzalex is used in combination with other medications to treat AL Amyloidosis that is:\\n\\t* Newly diagnosed\\n\\t* Relapsed or refractory (did not respond to previous treatments)\\n\\nDarzalex works by binding to a protein called CD38, which is found on the surface of cancer cells. This binding causes the immune system to attack and destroy the cancer cells.\\n\\nCommon side effects of Darzalex include:\\n\\n* Infusion reactions (reactions to the medication during infusion)\\n* Neutropenia (low white blood cell count)\\n* Thrombocytopenia (low platelet count)\\n* Anemia (low red blood cell count)\\n* Fatigue\\n* Nausea and vomiting\\n* Diarrhea\\n\\nSerious side effects of Darzalex can include:\\n\\n* Increased risk of infections\\n* Increased risk of bleeding\\n* Increased risk of kidney problems\\n* Increased risk of heart problems\\n\\nIt's important to note that Darzalex is a prescription medication and should only be used under the guidance of a healthcare provider.\", additional_kwargs={}, response_metadata={'token_usage': {'completion_tokens': 377, 'prompt_tokens': 21, 'total_tokens': 398, 'completion_time': 0.283378076, 'prompt_time': 0.002922035, 'queue_time': 0.194904958, 'total_time': 0.286300111}, 'model_name': 'llama3-8b-8192', 'system_fingerprint': 'fp_4b5fbf0ced', 'service_tier': 'on_demand', 'finish_reason': 'stop', 'logprobs': None}, id='run--8f5f1fa7-b3e3-460d-8d14-9ad865c729eb-0', usage_metadata={'input_tokens': 21, 'output_tokens': 377, 'total_tokens': 398})"
            ]
          },
          "metadata": {},
          "execution_count": 13
        }
      ]
    },
    {
      "cell_type": "code",
      "source": [
        "_set_env(\"SERPER_API_KEY\")"
      ],
      "metadata": {
        "colab": {
          "base_uri": "https://localhost:8080/"
        },
        "id": "vhXpZB8bnBPQ",
        "outputId": "eac85b0e-800c-4c10-e3ea-4179475dcc38"
      },
      "execution_count": 14,
      "outputs": [
        {
          "name": "stdout",
          "output_type": "stream",
          "text": [
            "SERPER_API_KEY: ··········\n"
          ]
        }
      ]
    },
    {
      "cell_type": "code",
      "source": [
        "from langchain_community.utilities import GoogleSerperAPIWrapper\n",
        "search = GoogleSerperAPIWrapper()\n",
        "search.run(\"What is Darzalex used for ?\")\n"
      ],
      "metadata": {
        "colab": {
          "base_uri": "https://localhost:8080/",
          "height": 123
        },
        "id": "E-4PcXQxnBQ4",
        "outputId": "1f655eff-4787-4176-f4c3-d6fbe108eb25"
      },
      "execution_count": 15,
      "outputs": [
        {
          "output_type": "execute_result",
          "data": {
            "text/plain": [
              "'Darzalex is used to treat multiple myeloma, which is a type of cancer that affects plasma cells (a type of white blood cell) made in your bone marrow. The way ... Darzalex (daratumumab) is commonly used for treating multiple myeloma, which is a type of blood cancer. DARZALEX FASPRO® is a prescription medicine used to treat adult patients with multiple myeloma: in combination with the medicines bortezomib, lenalidomide, and ... Darzalex (daratumumab) is a highly effective drug used to treat multiple myeloma. Read about who is a candidate, side effects, special warnings. Darzalex is a medicine used to treat adults with multiple myeloma (a cancer of the bone marrow) and light chain (AL) amyloidosis (a blood disease in which ... Adding daratumumab (Darzalex) to standard VRD treatment helped people with newly diagnosed multiple myeloma live longer without their cancer ... Darzalex (\\u200b\\u200bdaratumumab) is used to treat multiple myeloma to help slow or stop cancer from progressing. Darzalex is a targeted cancer medicine ... DARZALEX FASPRO® is a prescription medicine used to treat adult patients with multiple myeloma: in combination with the medicines bortezomib, lenalidomide, and ... Daratumumab injection is used alone or together with other medicines to treat multiple myeloma (a type of bone marrow cancer). Daratumumab, sold under the brand name Darzalex among others, is an anti-cancer monoclonal antibody medication. It binds to CD38.'"
            ],
            "application/vnd.google.colaboratory.intrinsic+json": {
              "type": "string"
            }
          },
          "metadata": {},
          "execution_count": 15
        }
      ]
    },
    {
      "cell_type": "code",
      "source": [],
      "metadata": {
        "id": "gCh-UewcnBVC"
      },
      "execution_count": null,
      "outputs": []
    },
    {
      "cell_type": "code",
      "source": [],
      "metadata": {
        "id": "qMi9JXWDnBWn"
      },
      "execution_count": null,
      "outputs": []
    }
  ]
}