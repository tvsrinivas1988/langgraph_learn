{
 "cells": [
  {
   "cell_type": "code",
   "execution_count": null,
   "id": "2d09d450",
   "metadata": {},
   "outputs": [],
   "source": [
    "import os\n",
    "from dotenv import load_dotenv\n",
    "load_dotenv()"
   ]
  },
  {
   "cell_type": "code",
   "execution_count": null,
   "id": "3fd6f4e4",
   "metadata": {},
   "outputs": [],
   "source": [
    "groq_api_key = os.getenv(\"GROQ_API_KEY\")\n"
   ]
  },
  {
   "cell_type": "code",
   "execution_count": 4,
   "id": "4ebe8dbd",
   "metadata": {},
   "outputs": [],
   "source": [
    "from pprint import pprint\n",
    "from langchain_core.messages import BaseMessage, HumanMessage\n"
   ]
  },
  {
   "cell_type": "code",
   "execution_count": 8,
   "id": "f7275e7e",
   "metadata": {},
   "outputs": [],
   "source": [
    "from typing import TypedDict,List\n",
    "class ChatState(TypedDict):\n",
    "    di_error_messages: List[BaseMessage]\n",
    "    dq_error_messages: List[BaseMessage]\n",
    "    dp_error_messages: List[BaseMessage]\n",
    "    afl_job_name: str\n",
    "    router_node_accessed: str\n",
    "    di_node_accessed: str\n",
    "    dp_nodes_accessed: str\n",
    "    dq_node_accessed: str\n",
    "    dummy_node_accessed: str"
   ]
  },
  {
   "cell_type": "code",
   "execution_count": null,
   "id": "94e54dbe",
   "metadata": {},
   "outputs": [],
   "source": [
    "##Using an LLM as simple ChatBot"
   ]
  },
  {
   "cell_type": "code",
   "execution_count": 10,
   "id": "a52c6838",
   "metadata": {},
   "outputs": [],
   "source": [
    "from langchain_groq import ChatGroq\n",
    "llm = ChatGroq(\n",
    "model=\"openai/gpt-oss-20b\",\n",
    "temperature=0,\n",
    "max_tokens=None,\n",
    "reasoning_format=\"parsed\",\n",
    "timeout=None,\n",
    "max_retries=2)\n",
    "\n",
    "\n"
   ]
  },
  {
   "cell_type": "code",
   "execution_count": 15,
   "id": "96b87007",
   "metadata": {},
   "outputs": [
    {
     "data": {
      "text/plain": [
       "AIMessage(content='Dummy Module', additional_kwargs={'reasoning_content': 'We need to parse the instruction: \"You are a helpful L3 IT Ops assistant that bifurcates the DMJB0001 to one of these 3 : DI module , DP Module or DQ Module. If the module name starts with DI then its DI and likewise . If you dont know you say Dummy Module.\"\\n\\nWe have DMJB0001. The module name starts with \"DMJB\". That doesn\\'t start with DI, DP, or DQ. So we don\\'t know. According to instruction, if you don\\'t know, say Dummy Module. So answer: Dummy Module.'}, response_metadata={'token_usage': {'completion_tokens': 130, 'prompt_tokens': 137, 'total_tokens': 267, 'completion_time': 0.130349228, 'prompt_time': 0.006777076, 'queue_time': 0.201263086, 'total_time': 0.137126304}, 'model_name': 'openai/gpt-oss-20b', 'system_fingerprint': 'fp_3d587a02fb', 'service_tier': 'on_demand', 'finish_reason': 'stop', 'logprobs': None}, id='run--7aed07e3-75b5-4c91-b655-aaf0dd0c6345-0', usage_metadata={'input_tokens': 137, 'output_tokens': 130, 'total_tokens': 267})"
      ]
     },
     "execution_count": 15,
     "metadata": {},
     "output_type": "execute_result"
    }
   ],
   "source": [
    "from langchain_core.prompts import ChatPromptTemplate\n",
    "\n",
    "prompt = ChatPromptTemplate.from_messages(\n",
    "    [\n",
    "        (\n",
    "            \"system\",\n",
    "            \"You are a helpful L3 IT Ops assistant that bifurcates the  {input} to one of these 3 : DI module , DP Module or DQ Module. If the module name starts with DI then its DI and likewise . If you dont know you say Dummy Module.\",\n",
    "        ),\n",
    "        (\"human\", \"{input}\"),\n",
    "    ]\n",
    ")\n",
    "\n",
    "chain = prompt | llm\n",
    "chain.invoke(\n",
    "    {\n",
    "        \n",
    "        \"input\": \"DMJB0001\",\n",
    "    }\n",
    ")"
   ]
  },
  {
   "cell_type": "code",
   "execution_count": null,
   "id": "b180a127",
   "metadata": {},
   "outputs": [],
   "source": []
  },
  {
   "cell_type": "code",
   "execution_count": null,
   "id": "f41b9cc9",
   "metadata": {},
   "outputs": [],
   "source": []
  },
  {
   "cell_type": "code",
   "execution_count": null,
   "id": "2352cf0f",
   "metadata": {},
   "outputs": [],
   "source": []
  },
  {
   "cell_type": "code",
   "execution_count": null,
   "id": "14d3364f",
   "metadata": {},
   "outputs": [],
   "source": []
  },
  {
   "cell_type": "code",
   "execution_count": null,
   "id": "132fb1a8",
   "metadata": {},
   "outputs": [],
   "source": []
  },
  {
   "cell_type": "code",
   "execution_count": null,
   "id": "c3afe48b",
   "metadata": {},
   "outputs": [],
   "source": []
  },
  {
   "cell_type": "code",
   "execution_count": null,
   "id": "06c2dc3a",
   "metadata": {},
   "outputs": [],
   "source": []
  },
  {
   "cell_type": "code",
   "execution_count": null,
   "id": "0d292715",
   "metadata": {},
   "outputs": [],
   "source": []
  }
 ],
 "metadata": {
  "kernelspec": {
   "display_name": "venv",
   "language": "python",
   "name": "python3"
  },
  "language_info": {
   "codemirror_mode": {
    "name": "ipython",
    "version": 3
   },
   "file_extension": ".py",
   "mimetype": "text/x-python",
   "name": "python",
   "nbconvert_exporter": "python",
   "pygments_lexer": "ipython3",
   "version": "3.13.3"
  }
 },
 "nbformat": 4,
 "nbformat_minor": 5
}
